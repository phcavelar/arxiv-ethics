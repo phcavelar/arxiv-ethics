{
 "cells": [
  {
   "cell_type": "code",
   "execution_count": 18,
   "metadata": {},
   "outputs": [],
   "source": [
    "import numpy as np\n",
    "import matplotlib.pyplot as plt\n",
    "import seaborn as sns\n",
    "\n",
    "import pandas as pd\n",
    "import csv\n",
    "\n",
    "import sklearn\n",
    "from sklearn.pipeline import make_pipeline, Pipeline\n",
    "from sklearn.feature_extraction.text import CountVectorizer, TfidfTransformer\n",
    "from sklearn.linear_model import LogisticRegression\n",
    "from sklearn.ensemble import RandomForestClassifier\n",
    "from sklearn.metrics import confusion_matrix, f1_score, precision_score, recall_score, accuracy_score, roc_auc_score\n",
    "from sklearn.model_selection import GridSearchCV, StratifiedKFold, cross_val_score\n",
    "from imblearn.over_sampling import RandomOverSampler\n",
    "from imblearn.pipeline import make_pipeline as imba_make_pipeline, Pipeline as ImbaPipeline\n",
    "from joblib import dump, load\n",
    "\n",
    "import spacy"
   ]
  },
  {
   "cell_type": "code",
   "execution_count": 2,
   "metadata": {},
   "outputs": [
    {
     "data": {
      "text/html": [
       "<div>\n",
       "<style scoped>\n",
       "    .dataframe tbody tr th:only-of-type {\n",
       "        vertical-align: middle;\n",
       "    }\n",
       "\n",
       "    .dataframe tbody tr th {\n",
       "        vertical-align: top;\n",
       "    }\n",
       "\n",
       "    .dataframe thead th {\n",
       "        text-align: right;\n",
       "    }\n",
       "</style>\n",
       "<table border=\"1\" class=\"dataframe\">\n",
       "  <thead>\n",
       "    <tr style=\"text-align: right;\">\n",
       "      <th></th>\n",
       "      <th>fname</th>\n",
       "      <th>date</th>\n",
       "      <th>is_ai</th>\n",
       "      <th>is_ethics</th>\n",
       "      <th>title</th>\n",
       "      <th>description</th>\n",
       "      <th>is_ai %</th>\n",
       "      <th>is_ethics %</th>\n",
       "      <th>a_is_ai</th>\n",
       "      <th>l_is_ai</th>\n",
       "      <th>p_is_ai</th>\n",
       "      <th>a_is_ethics</th>\n",
       "      <th>l_is_ethics</th>\n",
       "      <th>p_is_ethics</th>\n",
       "      <th>clf_is_ethics</th>\n",
       "      <th>clf_is_ethics_prob</th>\n",
       "    </tr>\n",
       "  </thead>\n",
       "  <tbody>\n",
       "    <tr>\n",
       "      <td>0</td>\n",
       "      <td>abs1705.03487</td>\n",
       "      <td>2017-05-06</td>\n",
       "      <td>1.0</td>\n",
       "      <td>0</td>\n",
       "      <td>A neural network system for transformation of ...</td>\n",
       "      <td>We propose a novel system which can transform ...</td>\n",
       "      <td>100.00%</td>\n",
       "      <td>0.00%</td>\n",
       "      <td>1.0</td>\n",
       "      <td>1.0</td>\n",
       "      <td>1.0</td>\n",
       "      <td>0.0</td>\n",
       "      <td>0</td>\n",
       "      <td>0.0</td>\n",
       "      <td>0</td>\n",
       "      <td>0.383240</td>\n",
       "    </tr>\n",
       "    <tr>\n",
       "      <td>1</td>\n",
       "      <td>abs1910.02390</td>\n",
       "      <td>2019-10-06</td>\n",
       "      <td>1.0</td>\n",
       "      <td>0</td>\n",
       "      <td>Migration through Machine Learning Lens -- Pre...</td>\n",
       "      <td>In this paper, we have discussed initial findi...</td>\n",
       "      <td>100.00%</td>\n",
       "      <td>33.33%</td>\n",
       "      <td>1.0</td>\n",
       "      <td>1.0</td>\n",
       "      <td>1.0</td>\n",
       "      <td>0.0</td>\n",
       "      <td>1</td>\n",
       "      <td>0.0</td>\n",
       "      <td>0</td>\n",
       "      <td>0.379631</td>\n",
       "    </tr>\n",
       "    <tr>\n",
       "      <td>2</td>\n",
       "      <td>abs1405.1605</td>\n",
       "      <td>2014-05-07</td>\n",
       "      <td>1.0</td>\n",
       "      <td>0</td>\n",
       "      <td>DepecheMood: a Lexicon for Emotion Analysis fr...</td>\n",
       "      <td>While many lexica annotated with words polarit...</td>\n",
       "      <td>100.00%</td>\n",
       "      <td>33.33%</td>\n",
       "      <td>1.0</td>\n",
       "      <td>1.0</td>\n",
       "      <td>1.0</td>\n",
       "      <td>0.0</td>\n",
       "      <td>1</td>\n",
       "      <td>0.0</td>\n",
       "      <td>0</td>\n",
       "      <td>0.300291</td>\n",
       "    </tr>\n",
       "    <tr>\n",
       "      <td>3</td>\n",
       "      <td>abs1907.04534</td>\n",
       "      <td>2019-07-10</td>\n",
       "      <td>1.0</td>\n",
       "      <td>1</td>\n",
       "      <td>The Role of Cooperation in Responsible AI Deve...</td>\n",
       "      <td>In this paper, we argue that competitive press...</td>\n",
       "      <td>100.00%</td>\n",
       "      <td>100.00%</td>\n",
       "      <td>1.0</td>\n",
       "      <td>1.0</td>\n",
       "      <td>1.0</td>\n",
       "      <td>1.0</td>\n",
       "      <td>1</td>\n",
       "      <td>1.0</td>\n",
       "      <td>1</td>\n",
       "      <td>0.733579</td>\n",
       "    </tr>\n",
       "    <tr>\n",
       "      <td>4</td>\n",
       "      <td>abs1906.04272</td>\n",
       "      <td>2019-06-10</td>\n",
       "      <td>1.0</td>\n",
       "      <td>1</td>\n",
       "      <td>Building High-Quality Auction Fraud Dataset</td>\n",
       "      <td>Given the magnitude of online auction transact...</td>\n",
       "      <td>100.00%</td>\n",
       "      <td>66.67%</td>\n",
       "      <td>1.0</td>\n",
       "      <td>1.0</td>\n",
       "      <td>1.0</td>\n",
       "      <td>1.0</td>\n",
       "      <td>1</td>\n",
       "      <td>0.0</td>\n",
       "      <td>1</td>\n",
       "      <td>0.592441</td>\n",
       "    </tr>\n",
       "    <tr>\n",
       "      <td>...</td>\n",
       "      <td>...</td>\n",
       "      <td>...</td>\n",
       "      <td>...</td>\n",
       "      <td>...</td>\n",
       "      <td>...</td>\n",
       "      <td>...</td>\n",
       "      <td>...</td>\n",
       "      <td>...</td>\n",
       "      <td>...</td>\n",
       "      <td>...</td>\n",
       "      <td>...</td>\n",
       "      <td>...</td>\n",
       "      <td>...</td>\n",
       "      <td>...</td>\n",
       "      <td>...</td>\n",
       "      <td>...</td>\n",
       "    </tr>\n",
       "    <tr>\n",
       "      <td>1420</td>\n",
       "      <td>abs1712.03073</td>\n",
       "      <td>2017-12-01</td>\n",
       "      <td>NaN</td>\n",
       "      <td>0</td>\n",
       "      <td>Enabling Cooperative Inference of Deep Learnin...</td>\n",
       "      <td>Deep Learning (DL) algorithm is the state-of-t...</td>\n",
       "      <td>NaN</td>\n",
       "      <td>NaN</td>\n",
       "      <td>NaN</td>\n",
       "      <td>NaN</td>\n",
       "      <td>NaN</td>\n",
       "      <td>NaN</td>\n",
       "      <td>NaN</td>\n",
       "      <td>NaN</td>\n",
       "      <td>0</td>\n",
       "      <td>0.302998</td>\n",
       "    </tr>\n",
       "    <tr>\n",
       "      <td>1421</td>\n",
       "      <td>abs1805.10318</td>\n",
       "      <td>2018-05-25</td>\n",
       "      <td>NaN</td>\n",
       "      <td>1</td>\n",
       "      <td>Enhancing the Accuracy and Fairness of Human D...</td>\n",
       "      <td>Societies often rely on human experts to take ...</td>\n",
       "      <td>NaN</td>\n",
       "      <td>NaN</td>\n",
       "      <td>NaN</td>\n",
       "      <td>NaN</td>\n",
       "      <td>NaN</td>\n",
       "      <td>NaN</td>\n",
       "      <td>NaN</td>\n",
       "      <td>NaN</td>\n",
       "      <td>1</td>\n",
       "      <td>0.671577</td>\n",
       "    </tr>\n",
       "    <tr>\n",
       "      <td>1422</td>\n",
       "      <td>abs1410.6277</td>\n",
       "      <td>2014-10-23</td>\n",
       "      <td>NaN</td>\n",
       "      <td>0</td>\n",
       "      <td>The Probabilistic Structure of Discrete Agent-...</td>\n",
       "      <td>This paper describes a formalization of agent-...</td>\n",
       "      <td>NaN</td>\n",
       "      <td>NaN</td>\n",
       "      <td>NaN</td>\n",
       "      <td>NaN</td>\n",
       "      <td>NaN</td>\n",
       "      <td>NaN</td>\n",
       "      <td>NaN</td>\n",
       "      <td>NaN</td>\n",
       "      <td>0</td>\n",
       "      <td>0.386153</td>\n",
       "    </tr>\n",
       "    <tr>\n",
       "      <td>1423</td>\n",
       "      <td>abs1806.00793</td>\n",
       "      <td>2018-06-03</td>\n",
       "      <td>NaN</td>\n",
       "      <td>0</td>\n",
       "      <td>Transfer Topic Labeling with Domain-Specific K...</td>\n",
       "      <td>Topic models are widely used in natural langua...</td>\n",
       "      <td>NaN</td>\n",
       "      <td>NaN</td>\n",
       "      <td>NaN</td>\n",
       "      <td>NaN</td>\n",
       "      <td>NaN</td>\n",
       "      <td>NaN</td>\n",
       "      <td>NaN</td>\n",
       "      <td>NaN</td>\n",
       "      <td>0</td>\n",
       "      <td>0.419378</td>\n",
       "    </tr>\n",
       "    <tr>\n",
       "      <td>1424</td>\n",
       "      <td>abs1508.05817</td>\n",
       "      <td>2015-08-24</td>\n",
       "      <td>NaN</td>\n",
       "      <td>0</td>\n",
       "      <td>Echoes of Persuasion: The Effect of Euphony in...</td>\n",
       "      <td>While the effect of various lexical, syntactic...</td>\n",
       "      <td>NaN</td>\n",
       "      <td>NaN</td>\n",
       "      <td>NaN</td>\n",
       "      <td>NaN</td>\n",
       "      <td>NaN</td>\n",
       "      <td>NaN</td>\n",
       "      <td>NaN</td>\n",
       "      <td>0.0</td>\n",
       "      <td>0</td>\n",
       "      <td>0.448007</td>\n",
       "    </tr>\n",
       "  </tbody>\n",
       "</table>\n",
       "<p>1425 rows × 16 columns</p>\n",
       "</div>"
      ],
      "text/plain": [
       "              fname        date  is_ai  is_ethics  \\\n",
       "0     abs1705.03487  2017-05-06    1.0          0   \n",
       "1     abs1910.02390  2019-10-06    1.0          0   \n",
       "2      abs1405.1605  2014-05-07    1.0          0   \n",
       "3     abs1907.04534  2019-07-10    1.0          1   \n",
       "4     abs1906.04272  2019-06-10    1.0          1   \n",
       "...             ...         ...    ...        ...   \n",
       "1420  abs1712.03073  2017-12-01    NaN          0   \n",
       "1421  abs1805.10318  2018-05-25    NaN          1   \n",
       "1422   abs1410.6277  2014-10-23    NaN          0   \n",
       "1423  abs1806.00793  2018-06-03    NaN          0   \n",
       "1424  abs1508.05817  2015-08-24    NaN          0   \n",
       "\n",
       "                                                  title  \\\n",
       "0     A neural network system for transformation of ...   \n",
       "1     Migration through Machine Learning Lens -- Pre...   \n",
       "2     DepecheMood: a Lexicon for Emotion Analysis fr...   \n",
       "3     The Role of Cooperation in Responsible AI Deve...   \n",
       "4           Building High-Quality Auction Fraud Dataset   \n",
       "...                                                 ...   \n",
       "1420  Enabling Cooperative Inference of Deep Learnin...   \n",
       "1421  Enhancing the Accuracy and Fairness of Human D...   \n",
       "1422  The Probabilistic Structure of Discrete Agent-...   \n",
       "1423  Transfer Topic Labeling with Domain-Specific K...   \n",
       "1424  Echoes of Persuasion: The Effect of Euphony in...   \n",
       "\n",
       "                                            description  is_ai % is_ethics %  \\\n",
       "0     We propose a novel system which can transform ...  100.00%       0.00%   \n",
       "1     In this paper, we have discussed initial findi...  100.00%      33.33%   \n",
       "2     While many lexica annotated with words polarit...  100.00%      33.33%   \n",
       "3     In this paper, we argue that competitive press...  100.00%     100.00%   \n",
       "4     Given the magnitude of online auction transact...  100.00%      66.67%   \n",
       "...                                                 ...      ...         ...   \n",
       "1420  Deep Learning (DL) algorithm is the state-of-t...      NaN         NaN   \n",
       "1421  Societies often rely on human experts to take ...      NaN         NaN   \n",
       "1422  This paper describes a formalization of agent-...      NaN         NaN   \n",
       "1423  Topic models are widely used in natural langua...      NaN         NaN   \n",
       "1424  While the effect of various lexical, syntactic...      NaN         NaN   \n",
       "\n",
       "      a_is_ai  l_is_ai  p_is_ai  a_is_ethics l_is_ethics  p_is_ethics  \\\n",
       "0         1.0      1.0      1.0          0.0           0          0.0   \n",
       "1         1.0      1.0      1.0          0.0           1          0.0   \n",
       "2         1.0      1.0      1.0          0.0           1          0.0   \n",
       "3         1.0      1.0      1.0          1.0           1          1.0   \n",
       "4         1.0      1.0      1.0          1.0           1          0.0   \n",
       "...       ...      ...      ...          ...         ...          ...   \n",
       "1420      NaN      NaN      NaN          NaN         NaN          NaN   \n",
       "1421      NaN      NaN      NaN          NaN         NaN          NaN   \n",
       "1422      NaN      NaN      NaN          NaN         NaN          NaN   \n",
       "1423      NaN      NaN      NaN          NaN         NaN          NaN   \n",
       "1424      NaN      NaN      NaN          NaN         NaN          0.0   \n",
       "\n",
       "      clf_is_ethics  clf_is_ethics_prob  \n",
       "0                 0            0.383240  \n",
       "1                 0            0.379631  \n",
       "2                 0            0.300291  \n",
       "3                 1            0.733579  \n",
       "4                 1            0.592441  \n",
       "...             ...                 ...  \n",
       "1420              0            0.302998  \n",
       "1421              1            0.671577  \n",
       "1422              0            0.386153  \n",
       "1423              0            0.419378  \n",
       "1424              0            0.448007  \n",
       "\n",
       "[1425 rows x 16 columns]"
      ]
     },
     "execution_count": 2,
     "metadata": {},
     "output_type": "execute_result"
    }
   ],
   "source": [
    "data = pd.read_csv(\"ai-ethics.tsv\", sep=\"\\t\")\n",
    "data"
   ]
  },
  {
   "cell_type": "code",
   "execution_count": 6,
   "metadata": {},
   "outputs": [],
   "source": [
    "ai_index_ethics_keywords = [\n",
    "    ['ethic'],\n",
    "    ['ethics'],\n",
    "    ['ethical'],\n",
    "    ['moral'],\n",
    "    ['morality'],\n",
    "    ['sustainability'],\n",
    "    ['racist'],\n",
    "    ['racism'],\n",
    "    ['machine', 'bias'],\n",
    "    ['unemployment'],\n",
    "    ['employment'],\n",
    "    ['workforce'],\n",
    "    ['humanity'],\n",
    "    ['humane'],\n",
    "    ['fool'],\n",
    "    ['fooling'],\n",
    "    ['fooled'],\n",
    "    ['security'],\n",
    "    ['secure'],\n",
    "    ['sentient'],\n",
    "    ['sentience'],\n",
    "    ['rights'],\n",
    "    ['law'],\n",
    "    ['society'],\n",
    "    ['responsibility'],\n",
    "    ['accountability'],\n",
    "    ['accountable'],\n",
    "    [\"privacy\"],\n",
    "]"
   ]
  },
  {
   "cell_type": "code",
   "execution_count": 7,
   "metadata": {},
   "outputs": [],
   "source": [
    "def ai_index_is_ethics( text, kws ):\n",
    "    qty = 0\n",
    "    for kw in kws:\n",
    "        has = True\n",
    "        for k in kw:\n",
    "            if k not in text:\n",
    "                has = False\n",
    "                break\n",
    "            #end if\n",
    "        #end for\n",
    "        if has:\n",
    "            qty += 1\n",
    "        #end if\n",
    "    return qty\n",
    "#end check"
   ]
  },
  {
   "cell_type": "code",
   "execution_count": 14,
   "metadata": {},
   "outputs": [
    {
     "name": "stdout",
     "output_type": "stream",
     "text": [
      "confusion_matrix [[986 131]\n",
      " [157 151]]\n",
      "f1_score 0.511864406779661\n",
      "precision_score 0.5354609929078015\n",
      "recall_score 0.4902597402597403\n",
      "accuracy_score 0.7978947368421052\n",
      "roc_auc_score 0.6864906579544\n"
     ]
    }
   ],
   "source": [
    "ai_index_pred = []\n",
    "for doc in data.description:\n",
    "    ai_index_pred.append(ai_index_is_ethics(doc.lower(), ai_index_ethics_keywords)>0)\n",
    "    \n",
    "for metric, name in zip(\n",
    "        [confusion_matrix, f1_score, precision_score, recall_score, accuracy_score, roc_auc_score],\n",
    "        [\"confusion_matrix\", \"f1_score\", \"precision_score\", \"recall_score\", \"accuracy_score\", \"roc_auc_score\"]\n",
    "        ):\n",
    "    print(name, metric(data.is_ethics, ai_index_pred))"
   ]
  },
  {
   "cell_type": "code",
   "execution_count": 15,
   "metadata": {},
   "outputs": [
    {
     "name": "stdout",
     "output_type": "stream",
     "text": [
      "confusion_matrix [[181  19]\n",
      " [ 49  41]]\n",
      "f1_score 0.5466666666666666\n",
      "precision_score 0.6833333333333333\n",
      "recall_score 0.45555555555555555\n",
      "accuracy_score 0.7655172413793103\n",
      "roc_auc_score 0.6802777777777778\n"
     ]
    }
   ],
   "source": [
    "human_labeled_data = data[data['is_ethics %'].notna()]\n",
    "\n",
    "ai_index_pred = []\n",
    "for doc in human_labeled_data.description:\n",
    "    ai_index_pred.append(ai_index_is_ethics(doc.lower(), ai_index_ethics_keywords)>0)\n",
    "\n",
    "for metric, name in zip(\n",
    "        [confusion_matrix, f1_score, precision_score, recall_score, accuracy_score, roc_auc_score],\n",
    "        [\"confusion_matrix\", \"f1_score\", \"precision_score\", \"recall_score\", \"accuracy_score\", \"roc_auc_score\"]\n",
    "        ):\n",
    "    print(name, metric(human_labeled_data.is_ethics, ai_index_pred))"
   ]
  },
  {
   "cell_type": "code",
   "execution_count": 72,
   "metadata": {},
   "outputs": [
    {
     "name": "stdout",
     "output_type": "stream",
     "text": [
      "confusion_matrix [[1082   35]\n",
      " [ 256   52]]\n",
      "f1_score 0.26329113924050634\n",
      "precision_score 0.5977011494252874\n",
      "recall_score 0.16883116883116883\n",
      "accuracy_score 0.7957894736842105\n",
      "roc_auc_score 0.5687486193305352\n"
     ]
    }
   ],
   "source": [
    "ai_index_pred = []\n",
    "for doc in data.title:\n",
    "    ai_index_pred.append(ai_index_is_ethics(doc.lower(), ai_index_ethics_keywords)>0)\n",
    "    \n",
    "for metric, name in zip(\n",
    "        [confusion_matrix, f1_score, precision_score, recall_score, accuracy_score, roc_auc_score],\n",
    "        [\"confusion_matrix\", \"f1_score\", \"precision_score\", \"recall_score\", \"accuracy_score\", \"roc_auc_score\"]\n",
    "        ):\n",
    "    print(name, metric(data.is_ethics, ai_index_pred))"
   ]
  },
  {
   "cell_type": "code",
   "execution_count": 73,
   "metadata": {},
   "outputs": [
    {
     "name": "stdout",
     "output_type": "stream",
     "text": [
      "confusion_matrix [[196   4]\n",
      " [ 77  13]]\n",
      "f1_score 0.24299065420560748\n",
      "precision_score 0.7647058823529411\n",
      "recall_score 0.14444444444444443\n",
      "accuracy_score 0.7206896551724138\n",
      "roc_auc_score 0.5622222222222222\n"
     ]
    }
   ],
   "source": [
    "human_labeled_data = data[data['is_ethics %'].notna()]\n",
    "\n",
    "ai_index_pred = []\n",
    "for doc in human_labeled_data.title:\n",
    "    ai_index_pred.append(ai_index_is_ethics(doc.lower(), ai_index_ethics_keywords)>0)\n",
    "\n",
    "for metric, name in zip(\n",
    "        [confusion_matrix, f1_score, precision_score, recall_score, accuracy_score, roc_auc_score],\n",
    "        [\"confusion_matrix\", \"f1_score\", \"precision_score\", \"recall_score\", \"accuracy_score\", \"roc_auc_score\"]\n",
    "        ):\n",
    "    print(name, metric(human_labeled_data.is_ethics, ai_index_pred))"
   ]
  },
  {
   "cell_type": "code",
   "execution_count": 3,
   "metadata": {},
   "outputs": [],
   "source": [
    "nlp = spacy.load(\"en_core_web_lg\")"
   ]
  },
  {
   "cell_type": "code",
   "execution_count": 82,
   "metadata": {},
   "outputs": [],
   "source": [
    "abstracts = []\n",
    "for doc in nlp.pipe(data.description):\n",
    "    abstracts.append(\" \".join(word.lemma_ for word in doc if not word.is_stop and not word.is_punct))\n",
    "\n",
    "titles = []\n",
    "for doc in nlp.pipe(data.description):\n",
    "    titles.append(\" \".join(word.lemma_ for word in doc if not word.is_stop and not word.is_punct))"
   ]
  },
  {
   "cell_type": "code",
   "execution_count": 93,
   "metadata": {},
   "outputs": [],
   "source": [
    "vectorizer = CountVectorizer(\n",
    "    max_df = 0.75,\n",
    "    max_features = None,\n",
    "    min_df = 2,\n",
    ")\n",
    "X = vectorizer.fit_transform(abstracts+titles)\n",
    "X_abs = vectorizer.transform(abstracts)\n",
    "X_ttl = vectorizer.transform(titles)"
   ]
  },
  {
   "cell_type": "code",
   "execution_count": 94,
   "metadata": {},
   "outputs": [],
   "source": [
    "ros = RandomOverSampler(random_state=0)\n",
    "X_resampled, y_resampled = ros.fit_resample(X, list(data.is_ethics)+list(data.is_ethics))"
   ]
  },
  {
   "cell_type": "code",
   "execution_count": 95,
   "metadata": {},
   "outputs": [
    {
     "name": "stderr",
     "output_type": "stream",
     "text": [
      "[Parallel(n_jobs=-1)]: Using backend LokyBackend with 8 concurrent workers.\n",
      "[Parallel(n_jobs=-1)]: Done   4 out of   4 | elapsed:    0.9s remaining:    0.0s\n",
      "[Parallel(n_jobs=-1)]: Done   4 out of   4 | elapsed:    0.9s finished\n"
     ]
    },
    {
     "data": {
      "text/plain": [
       "array([0.91190824, 0.92689476, 0.92118228, 0.91836083])"
      ]
     },
     "execution_count": 95,
     "metadata": {},
     "output_type": "execute_result"
    }
   ],
   "source": [
    "lg_pipeline = Pipeline([\n",
    "        ('tfidf', TfidfTransformer(\n",
    "            norm = \"l1\",\n",
    "            use_idf = False,\n",
    "        )),\n",
    "        ('clf', LogisticRegression(\n",
    "            penalty = \"l1\",\n",
    "            solver = \"liblinear\",\n",
    "            C = 1,\n",
    "        )),\n",
    "    ])\n",
    "\n",
    "cross_val_score(lg_pipeline, X_resampled, y_resampled, cv=4, scoring = \"roc_auc\", n_jobs=-1, verbose=1)"
   ]
  },
  {
   "cell_type": "code",
   "execution_count": 96,
   "metadata": {},
   "outputs": [
    {
     "name": "stderr",
     "output_type": "stream",
     "text": [
      "[Parallel(n_jobs=-1)]: Using backend LokyBackend with 8 concurrent workers.\n",
      "[Parallel(n_jobs=-1)]: Done   4 out of   4 | elapsed:    1.9s remaining:    0.0s\n",
      "[Parallel(n_jobs=-1)]: Done   4 out of   4 | elapsed:    1.9s finished\n"
     ]
    },
    {
     "data": {
      "text/plain": [
       "array([0.99469728, 0.99820149, 0.99465577, 0.99794132])"
      ]
     },
     "execution_count": 96,
     "metadata": {},
     "output_type": "execute_result"
    }
   ],
   "source": [
    "rf_pipeline = Pipeline([\n",
    "        ('tfidf', TfidfTransformer(\n",
    "            norm = \"l1\",\n",
    "            use_idf = False,\n",
    "        )),\n",
    "        ('clf', RandomForestClassifier(\n",
    "            max_depth = 8,\n",
    "            n_estimators = 512,\n",
    "        )),\n",
    "    ])\n",
    "\n",
    "cross_val_score(rf_pipeline, X_resampled, y_resampled, cv=4, scoring = \"roc_auc\", n_jobs=-1, verbose=1)"
   ]
  },
  {
   "cell_type": "code",
   "execution_count": 97,
   "metadata": {},
   "outputs": [],
   "source": [
    "lg_pipeline = Pipeline([\n",
    "        ('tfidf', TfidfTransformer(\n",
    "            norm = \"l1\",\n",
    "            use_idf = False,\n",
    "        )),\n",
    "        ('clf', LogisticRegression(\n",
    "            penalty = \"l1\",\n",
    "            solver = \"liblinear\",\n",
    "            C = 1,\n",
    "        )),\n",
    "    ])"
   ]
  },
  {
   "cell_type": "code",
   "execution_count": 148,
   "metadata": {},
   "outputs": [
    {
     "data": {
      "text/plain": [
       "Pipeline(memory=None,\n",
       "         steps=[('tfidf',\n",
       "                 TfidfTransformer(norm='l1', smooth_idf=True,\n",
       "                                  sublinear_tf=False, use_idf=False)),\n",
       "                ('clf',\n",
       "                 LogisticRegression(C=1, class_weight=None, dual=False,\n",
       "                                    fit_intercept=True, intercept_scaling=1,\n",
       "                                    l1_ratio=None, max_iter=100,\n",
       "                                    multi_class='warn', n_jobs=None,\n",
       "                                    penalty='l1', random_state=None,\n",
       "                                    solver='liblinear', tol=0.0001, verbose=0,\n",
       "                                    warm_start=False))],\n",
       "         verbose=False)"
      ]
     },
     "execution_count": 148,
     "metadata": {},
     "output_type": "execute_result"
    }
   ],
   "source": [
    "lg_pipeline.fit(X_resampled,y_resampled)"
   ]
  },
  {
   "cell_type": "code",
   "execution_count": 165,
   "metadata": {},
   "outputs": [
    {
     "data": {
      "text/plain": [
       "([624,\n",
       "  893,\n",
       "  1206,\n",
       "  2772,\n",
       "  3350,\n",
       "  3570,\n",
       "  3574,\n",
       "  4133,\n",
       "  4389,\n",
       "  5011,\n",
       "  5383,\n",
       "  5476,\n",
       "  5917,\n",
       "  6929,\n",
       "  7690,\n",
       "  8342,\n",
       "  8351,\n",
       "  9253],\n",
       " [1131, 2414, 4737, 5710, 5866, 6091, 7202, 8637, 8856, 8927, 9072],\n",
       " array([-0.54504386]))"
      ]
     },
     "execution_count": 165,
     "metadata": {},
     "output_type": "execute_result"
    }
   ],
   "source": [
    "keywords_idx = [i for i,x in enumerate(lg_pipeline.named_steps[\"clf\"].coef_[0,:]) if x>0]\n",
    "antikeywords_idx = [i for i,x in enumerate(lg_pipeline.named_steps[\"clf\"].coef_[0,:]) if x<0]\n",
    "keywords_idx, antikeywords_idx, lg_pipeline.named_steps[\"clf\"].intercept_"
   ]
  },
  {
   "cell_type": "code",
   "execution_count": 164,
   "metadata": {},
   "outputs": [
    {
     "name": "stdout",
     "output_type": "stream",
     "text": [
      "['ai', 'artificial', 'bias', 'discrimination', 'ethical', 'fair', 'fairness', 'group', 'human', 'issue', 'literature', 'machine', 'moral', 'portrait', 'research', 'social', 'society', 'trust']\n",
      "['base', 'datum', 'information', 'method', 'model', 'network', 'propose', 'student', 'system', 'technique', 'time']\n"
     ]
    }
   ],
   "source": [
    "mapping = vectorizer.get_feature_names()\n",
    "\n",
    "print([mapping[i] for i in keywords_idx])\n",
    "print([mapping[i] for i in antikeywords_idx])"
   ]
  },
  {
   "cell_type": "code",
   "execution_count": 169,
   "metadata": {},
   "outputs": [
    {
     "name": "stdout",
     "output_type": "stream",
     "text": [
      "{'moral', 'morality', 'right', 'responsibility', 'secure', 'sentient', 'law', 'unemployment', 'accountability', 'ethic', 'bias', 'accountable', 'humane', 'sentience', 'privacy', 'society', 'fool', 'sustainability', 'racist', 'security', 'ethical', 'machine', 'racism', 'humanity', 'employment', 'workforce'}\n"
     ]
    }
   ],
   "source": [
    "lemma_kws = set()\n",
    "for kws in ai_index_ethics_keywords:\n",
    "    kw = \" \".join(kws)\n",
    "    lemma_kws |= set(x.lemma_ for x in nlp(kw))\n",
    "print(lemma_kws)"
   ]
  },
  {
   "cell_type": "code",
   "execution_count": 98,
   "metadata": {},
   "outputs": [],
   "source": [
    "rf_pipeline = Pipeline([\n",
    "        ('tfidf', TfidfTransformer(\n",
    "            norm = \"l1\",\n",
    "            use_idf = False,\n",
    "        )),\n",
    "        ('clf', RandomForestClassifier(\n",
    "            max_depth = 8,\n",
    "            n_estimators = 512,\n",
    "        )),\n",
    "    ])"
   ]
  },
  {
   "cell_type": "code",
   "execution_count": 100,
   "metadata": {},
   "outputs": [
    {
     "data": {
      "text/plain": [
       "Pipeline(memory=None,\n",
       "         steps=[('tfidf',\n",
       "                 TfidfTransformer(norm='l1', smooth_idf=True,\n",
       "                                  sublinear_tf=False, use_idf=False)),\n",
       "                ('clf',\n",
       "                 RandomForestClassifier(bootstrap=True, class_weight=None,\n",
       "                                        criterion='gini', max_depth=8,\n",
       "                                        max_features='auto',\n",
       "                                        max_leaf_nodes=None,\n",
       "                                        min_impurity_decrease=0.0,\n",
       "                                        min_impurity_split=None,\n",
       "                                        min_samples_leaf=1, min_samples_split=2,\n",
       "                                        min_weight_fraction_leaf=0.0,\n",
       "                                        n_estimators=512, n_jobs=None,\n",
       "                                        oob_score=False, random_state=None,\n",
       "                                        verbose=0, warm_start=False))],\n",
       "         verbose=False)"
      ]
     },
     "execution_count": 100,
     "metadata": {},
     "output_type": "execute_result"
    }
   ],
   "source": [
    "rf_pipeline.fit(X_resampled,y_resampled)"
   ]
  },
  {
   "cell_type": "code",
   "execution_count": 101,
   "metadata": {},
   "outputs": [],
   "source": [
    "X_title = vectorizer.transform([\" \".join(word.lemma_ for word in doc if not word.is_stop and not word.is_punct) for doc in nlp.pipe(data.title)])\n",
    "\n",
    "y_pred = rf_pipeline.predict(X_title)\n",
    "y_prob = rf_pipeline.predict_proba(X_title)"
   ]
  },
  {
   "cell_type": "code",
   "execution_count": 105,
   "metadata": {},
   "outputs": [
    {
     "name": "stdout",
     "output_type": "stream",
     "text": [
      " Trained only on abstracts:\n",
      "confusion_matrix [[1043   74]\n",
      " [ 130  178]]\n",
      "f1_score 0.6357142857142858\n",
      "precision_score 0.7063492063492064\n",
      "recall_score 0.577922077922078\n",
      "accuracy_score 0.8568421052631578\n",
      "roc_auc_score 0.7558365984955062\n",
      "\n"
     ]
    }
   ],
   "source": [
    "print(\"\"\" Trained only on abstracts:\n",
    "confusion_matrix [[1043   74]\n",
    " [ 130  178]]\n",
    "f1_score 0.6357142857142858\n",
    "precision_score 0.7063492063492064\n",
    "recall_score 0.577922077922078\n",
    "accuracy_score 0.8568421052631578\n",
    "roc_auc_score 0.7558365984955062\n",
    "\"\"\")"
   ]
  },
  {
   "cell_type": "code",
   "execution_count": 103,
   "metadata": {},
   "outputs": [
    {
     "name": "stdout",
     "output_type": "stream",
     "text": [
      "confusion_matrix [[1028   89]\n",
      " [ 125  183]]\n",
      "f1_score 0.6310344827586207\n",
      "precision_score 0.6727941176470589\n",
      "recall_score 0.5941558441558441\n",
      "accuracy_score 0.8498245614035088\n",
      "roc_auc_score 0.7572390680045111\n"
     ]
    }
   ],
   "source": [
    "for metric, name in zip(\n",
    "        [confusion_matrix, f1_score, precision_score, recall_score, accuracy_score, roc_auc_score],\n",
    "        [\"confusion_matrix\", \"f1_score\", \"precision_score\", \"recall_score\", \"accuracy_score\", \"roc_auc_score\"]\n",
    "        ):\n",
    "    print(name, metric(data.is_ethics, y_pred))"
   ]
  },
  {
   "cell_type": "code",
   "execution_count": 106,
   "metadata": {},
   "outputs": [
    {
     "data": {
      "text/plain": [
       "<matplotlib.axes._subplots.AxesSubplot at 0x7fcc444de210>"
      ]
     },
     "execution_count": 106,
     "metadata": {},
     "output_type": "execute_result"
    },
    {
     "data": {
      "image/png": "[encoded data removed]",
      "text/plain": [
       "<Figure size 432x288 with 2 Axes>"
      ]
     },
     "metadata": {
      "needs_background": "light"
     },
     "output_type": "display_data"
    }
   ],
   "source": [
    "sns.heatmap(confusion_matrix(data.is_ethics, y_pred), annot=True, fmt=\"d\", cmap=\"coolwarm\")"
   ]
  },
  {
   "cell_type": "code",
   "execution_count": 58,
   "metadata": {},
   "outputs": [],
   "source": [
    "aaai_data = pd.read_csv(\"aaai.txt\", sep=\";\", quotechar=\"#\", header=0, names=[\"year\",\"id\",\"title\",\"authors\",\"link\",\"abstract\"])\n",
    "aaai_data = aaai_data[aaai_data[\"abstract\"].notna()]"
   ]
  },
  {
   "cell_type": "code",
   "execution_count": 107,
   "metadata": {},
   "outputs": [],
   "source": [
    "aaai_docs = []\n",
    "for doc in nlp.pipe(aaai_data.abstract):\n",
    "    aaai_docs.append(\" \".join(word.lemma_ for word in doc if not word.is_stop and not word.is_punct))"
   ]
  },
  {
   "cell_type": "code",
   "execution_count": 108,
   "metadata": {},
   "outputs": [],
   "source": [
    "aaai_X = vectorizer.transform(aaai_docs)\n",
    "aaai_y_pred = rf_pipeline.predict(aaai_X)\n",
    "aaai_y_prob = rf_pipeline.predict_proba(aaai_X)"
   ]
  },
  {
   "cell_type": "code",
   "execution_count": 109,
   "metadata": {},
   "outputs": [],
   "source": [
    "aaai_data[\"is_ethics_with_ai\"] = aaai_y_pred"
   ]
  },
  {
   "cell_type": "code",
   "execution_count": 69,
   "metadata": {},
   "outputs": [],
   "source": [
    "aaai_ai_index_pred = []\n",
    "for doc in aaai_data.abstract:\n",
    "    aaai_ai_index_pred.append(1 if ai_index_is_ethics(doc.lower(), ai_index_ethics_keywords)>0 else 0)"
   ]
  },
  {
   "cell_type": "code",
   "execution_count": 70,
   "metadata": {},
   "outputs": [],
   "source": [
    "aaai_data[\"is_ethics_ai_index\"] = aaai_ai_index_pred"
   ]
  },
  {
   "cell_type": "code",
   "execution_count": 110,
   "metadata": {},
   "outputs": [
    {
     "data": {
      "text/plain": [
       "<matplotlib.axes._subplots.AxesSubplot at 0x7fcc440359d0>"
      ]
     },
     "execution_count": 110,
     "metadata": {},
     "output_type": "execute_result"
    },
    {
     "data": {
      "image/png": "[encoded data removed]",
      "text/plain": [
       "<Figure size 432x288 with 1 Axes>"
      ]
     },
     "metadata": {
      "needs_background": "light"
     },
     "output_type": "display_data"
    }
   ],
   "source": [
    "sns.lineplot(data=aaai_data[[\"year\",\"is_ethics_with_ai\",\"is_ethics_ai_index\"]].groupby(\"year\").mean())"
   ]
  },
  {
   "cell_type": "code",
   "execution_count": 112,
   "metadata": {},
   "outputs": [],
   "source": [
    "nips_data = pd.read_csv(\"nips.txt\", sep=\";\", quotechar=\"#\", header=0, names=[\"year\",\"id\",\"title\",\"authors\",\"link\",\"abstract\"])\n",
    "nips_data = nips_data[nips_data[\"abstract\"].notna()]"
   ]
  },
  {
   "cell_type": "code",
   "execution_count": 113,
   "metadata": {},
   "outputs": [],
   "source": [
    "nips_docs = []\n",
    "for doc in nlp.pipe(nips_data.abstract):\n",
    "    nips_docs.append(\" \".join(word.lemma_ for word in doc if not word.is_stop and not word.is_punct))"
   ]
  },
  {
   "cell_type": "code",
   "execution_count": 114,
   "metadata": {},
   "outputs": [],
   "source": [
    "nips_X = vectorizer.transform(nips_docs)\n",
    "nips_y_pred = rf_pipeline.predict(nips_X)\n",
    "nips_y_prob = rf_pipeline.predict_proba(nips_X)"
   ]
  },
  {
   "cell_type": "code",
   "execution_count": 115,
   "metadata": {},
   "outputs": [],
   "source": [
    "nips_data[\"is_ethics_with_ai\"] = nips_y_pred"
   ]
  },
  {
   "cell_type": "code",
   "execution_count": 116,
   "metadata": {},
   "outputs": [],
   "source": [
    "nips_ai_index_pred = []\n",
    "for doc in nips_data.abstract:\n",
    "    nips_ai_index_pred.append(1 if ai_index_is_ethics(doc.lower(), ai_index_ethics_keywords)>0 else 0)"
   ]
  },
  {
   "cell_type": "code",
   "execution_count": 117,
   "metadata": {},
   "outputs": [],
   "source": [
    "nips_data[\"is_ethics_ai_index\"] = nips_ai_index_pred"
   ]
  },
  {
   "cell_type": "code",
   "execution_count": 118,
   "metadata": {},
   "outputs": [
    {
     "data": {
      "text/plain": [
       "<matplotlib.axes._subplots.AxesSubplot at 0x7fcc4456ff90>"
      ]
     },
     "execution_count": 118,
     "metadata": {},
     "output_type": "execute_result"
    },
    {
     "data": {
      "image/png": "[encoded data removed]",
      "text/plain": [
       "<Figure size 432x288 with 1 Axes>"
      ]
     },
     "metadata": {
      "needs_background": "light"
     },
     "output_type": "display_data"
    }
   ],
   "source": [
    "sns.lineplot(data=nips_data[[\"year\",\"is_ethics_with_ai\",\"is_ethics_ai_index\"]].groupby(\"year\").mean())"
   ]
  },
  {
   "cell_type": "code",
   "execution_count": 119,
   "metadata": {},
   "outputs": [],
   "source": [
    "aaai_data[\"conf\"] = \"aaai\"\n",
    "nips_data[\"conf\"] = \"nips\""
   ]
  },
  {
   "cell_type": "code",
   "execution_count": 146,
   "metadata": {},
   "outputs": [],
   "source": [
    "a = aaai_data[[\"year\",\"is_ethics_with_ai\",\"is_ethics_ai_index\"]].groupby(\"year\").mean()\n",
    "n = nips_data[[\"year\",\"is_ethics_with_ai\",\"is_ethics_ai_index\"]].groupby(\"year\").mean()"
   ]
  },
  {
   "cell_type": "code",
   "execution_count": 147,
   "metadata": {},
   "outputs": [
    {
     "data": {
      "text/plain": [
       "<matplotlib.axes._subplots.AxesSubplot at 0x7fcc29742810>"
      ]
     },
     "execution_count": 147,
     "metadata": {},
     "output_type": "execute_result"
    },
    {
     "data": {
      "image/png": "[encoded data removed]",
      "text/plain": [
       "<Figure size 432x288 with 1 Axes>"
      ]
     },
     "metadata": {
      "needs_background": "light"
     },
     "output_type": "display_data"
    }
   ],
   "source": [
    "sns.lineplot(data=pd.merge(a,n, on=\"year\", suffixes=(\"_aaai\",\"_nips\")))"
   ]
  },
  {
   "cell_type": "code",
   "execution_count": 219,
   "metadata": {},
   "outputs": [],
   "source": [
    "cdblp = pd.read_csv(\"cdblp.csv\", sep=\"\\t\", quotechar='\"', header=1, names=[\"key\",\"title\",\"booktitle\",\"year\",\"ee\",\"empty\"]).drop(\"empty\", axis=1)"
   ]
  },
  {
   "cell_type": "code",
   "execution_count": 220,
   "metadata": {},
   "outputs": [],
   "source": [
    "def ai_conf(v):\n",
    "    return v.upper() in [\"AAAI\",\"IJCAI\",\"NIPS\",\"ICML\"]\n",
    "\n",
    "def robotics_conf(v):\n",
    "    return v.upper() in [\"ICRA\",\"IROS\"]"
   ]
  },
  {
   "cell_type": "code",
   "execution_count": 221,
   "metadata": {},
   "outputs": [
    {
     "name": "stderr",
     "output_type": "stream",
     "text": [
      "/home/phcavelar/anaconda3/lib/python3.7/site-packages/ipykernel_launcher.py:2: SettingWithCopyWarning: \n",
      "A value is trying to be set on a copy of a slice from a DataFrame\n",
      "\n",
      "See the caveats in the documentation: http://pandas.pydata.org/pandas-docs/stable/user_guide/indexing.html#returning-a-view-versus-a-copy\n",
      "  \n",
      "/home/phcavelar/anaconda3/lib/python3.7/site-packages/ipykernel_launcher.py:3: SettingWithCopyWarning: \n",
      "A value is trying to be set on a copy of a slice from a DataFrame\n",
      "\n",
      "See the caveats in the documentation: http://pandas.pydata.org/pandas-docs/stable/user_guide/indexing.html#returning-a-view-versus-a-copy\n",
      "  This is separate from the ipykernel package so we can avoid doing imports until\n",
      "/home/phcavelar/anaconda3/lib/python3.7/site-packages/ipykernel_launcher.py:4: SettingWithCopyWarning: \n",
      "A value is trying to be set on a copy of a slice from a DataFrame\n",
      "\n",
      "See the caveats in the documentation: http://pandas.pydata.org/pandas-docs/stable/user_guide/indexing.html#returning-a-view-versus-a-copy\n",
      "  after removing the cwd from sys.path.\n"
     ]
    }
   ],
   "source": [
    "cdblp[\"conftype\"] = None\n",
    "cdblp[\"conftype\"][cdblp.booktitle.apply(ai_conf)] = \"AI\"\n",
    "cdblp[\"conftype\"][cdblp.booktitle.apply(robotics_conf)] = \"Robotics\"\n",
    "cdblp[\"conftype\"][cdblp[\"conftype\"].isna()] = cdblp.booktitle[cdblp[\"conftype\"].isna()]"
   ]
  },
  {
   "cell_type": "code",
   "execution_count": 244,
   "metadata": {},
   "outputs": [],
   "source": [
    "filtered_cdblp = cdblp[np.logical_or(cdblp.conftype==\"AI\",cdblp.conftype==\"Robotics\")]\n",
    "filtered_cdblp = filtered_cdblp[filtered_cdblp.title.notna()]"
   ]
  },
  {
   "cell_type": "code",
   "execution_count": 245,
   "metadata": {},
   "outputs": [],
   "source": [
    "cdblp_docs = []\n",
    "for doc in nlp.pipe(filtered_cdblp.title):\n",
    "    cdblp_docs.append(\" \".join(word.lemma_ for word in doc if not word.is_stop and not word.is_punct))\n",
    "cdblp_y_pred = rf_pipeline.predict(vectorizer.transform(cdblp_docs))\n",
    "\n",
    "cdblp_ai_index_pred = []\n",
    "for doc in filtered_cdblp.title:\n",
    "    cdblp_ai_index_pred.append(1 if ai_index_is_ethics(doc.lower(), ai_index_ethics_keywords)>0 else 0)"
   ]
  },
  {
   "cell_type": "code",
   "execution_count": 368,
   "metadata": {},
   "outputs": [],
   "source": [
    "filtered_cdblp[\"is_ethics_with_ai\"] = cdblp_y_pred\n",
    "filtered_cdblp[\"is_ethics_ai_index\"] = cdblp_ai_index_pred"
   ]
  },
  {
   "cell_type": "code",
   "execution_count": 377,
   "metadata": {},
   "outputs": [
    {
     "data": {
      "text/plain": [
       "['An ILP Method Based on Instance Graph.',\n",
       " 'Artificial Intelligence-Based Computer Modeling Tools for Controlling Slag Foaming in Electric Furnaces.',\n",
       " 'Mixed-Initiative Reasoning for Integrated Domain Modeling, Learning and Problem Solving.',\n",
       " 'Ontology Integration in XML.']"
      ]
     },
     "execution_count": 377,
     "metadata": {},
     "output_type": "execute_result"
    }
   ],
   "source": [
    "list(filtered_cdblp[np.logical_and(filtered_cdblp.year==2000, filtered_cdblp.booktitle==\"AAAI\")].title)"
   ]
  },
  {
   "cell_type": "code",
   "execution_count": null,
   "metadata": {},
   "outputs": [],
   "source": []
  },
  {
   "cell_type": "code",
   "execution_count": 343,
   "metadata": {},
   "outputs": [],
   "source": [
    "cdf = filtered_cdblp[[\"year\",\"booktitle\",\"is_ethics_with_ai\", \"is_ethics_ai_index\"]].groupby([\"year\",\"booktitle\"]).mean().reset_index()"
   ]
  },
  {
   "cell_type": "code",
   "execution_count": 291,
   "metadata": {},
   "outputs": [
    {
     "data": {
      "text/plain": [
       "<matplotlib.axes._subplots.AxesSubplot at 0x7fcc05fa98d0>"
      ]
     },
     "execution_count": 291,
     "metadata": {},
     "output_type": "execute_result"
    },
    {
     "data": {
      "image/png": "[encoded data removed]",
      "text/plain": [
       "<Figure size 432x288 with 1 Axes>"
      ]
     },
     "metadata": {
      "needs_background": "light"
     },
     "output_type": "display_data"
    }
   ],
   "source": [
    "sns.lineplot(data=cdf, x=\"year\", y=\"is_ethics_with_ai\", hue=\"booktitle\")"
   ]
  },
  {
   "cell_type": "code",
   "execution_count": 292,
   "metadata": {},
   "outputs": [
    {
     "data": {
      "text/plain": [
       "<matplotlib.axes._subplots.AxesSubplot at 0x7fcc05f3a8d0>"
      ]
     },
     "execution_count": 292,
     "metadata": {},
     "output_type": "execute_result"
    },
    {
     "data": {
      "image/png": "[encoded data removed]",
      "text/plain": [
       "<Figure size 432x288 with 1 Axes>"
      ]
     },
     "metadata": {
      "needs_background": "light"
     },
     "output_type": "display_data"
    }
   ],
   "source": [
    "sns.lineplot(data=cdf, x=\"year\", y=\"is_ethics_ai_index\", hue=\"booktitle\")"
   ]
  },
  {
   "cell_type": "code",
   "execution_count": 342,
   "metadata": {},
   "outputs": [],
   "source": [
    "cdf.to_csv(\"conference.csv\")"
   ]
  },
  {
   "cell_type": "code",
   "execution_count": 361,
   "metadata": {},
   "outputs": [
    {
     "name": "stdout",
     "output_type": "stream",
     "text": [
      "year & AAAI & ICML & ICRA & IJCAI & IROS & NIPS\\\\\n",
      "1969 & - & - & - & 0.063 & - & -\\\\\n",
      "1971 & - & - & - & 0.077 & - & -\\\\\n",
      "1973 & - & - & - & 0.094 & - & -\\\\\n",
      "1975 & - & - & - & 0.068 & - & -\\\\\n",
      "1977 & - & - & - & 0.064 & - & -\\\\\n",
      "1979 & - & - & - & 0.022 & - & -\\\\\n",
      "1980 & 0.021 & - & - & - & - & -\\\\\n",
      "1981 & - & - & - & 0.028 & - & -\\\\\n",
      "1982 & 0.010 & - & - & - & - & -\\\\\n",
      "1983 & 0.022 & - & - & 0.041 & - & -\\\\\n",
      "1984 & 0.029 & - & 0.014 & - & - & -\\\\\n",
      "1985 & - & - & 0.018 & 0.050 & - & -\\\\\n",
      "1986 & 0.045 & - & 0.027 & - & - & -\\\\\n",
      "1987 & 0.014 & - & 0.021 & 0.033 & - & 0.000\\\\\n",
      "1988 & 0.020 & - & 0.012 & - & - & 0.000\\\\\n",
      "1989 & - & - & 0.007 & 0.034 & 0.046 & 0.010\\\\\n",
      "1990 & 0.034 & - & 0.006 & - & 0.029 & 0.007\\\\\n",
      "1991 & 0.000 & - & 0.013 & 0.047 & 0.008 & 0.007\\\\\n",
      "1992 & 0.061 & - & 0.009 & - & 0.024 & 0.000\\\\\n",
      "1993 & 0.015 & 0.023 & - & 0.054 & 0.016 & 0.006\\\\\n",
      "1994 & 0.037 & 0.044 & 0.013 & - & 0.021 & 0.014\\\\\n",
      "1995 & - & 0.029 & 0.026 & 0.014 & - & 0.007\\\\\n",
      "1996 & - & 0.030 & 0.015 & - & 0.021 & 0.007\\\\\n",
      "1997 & - & 0.021 & 0.012 & 0.036 & 0.017 & 0.019\\\\\n",
      "1998 & - & 0.015 & 0.010 & - & 0.019 & 0.033\\\\\n",
      "1999 & - & 0.057 & 0.023 & 0.015 & 0.019 & 0.007\\\\\n",
      "2000 & 0.250 & 0.013 & 0.019 & - & 0.019 & 0.000\\\\\n",
      "2001 & - & 0.037 & 0.022 & 0.020 & 0.016 & 0.015\\\\\n",
      "2002 & - & 0.023 & 0.026 & - & 0.022 & 0.010\\\\\n",
      "2003 & - & 0.009 & 0.033 & 0.021 & 0.016 & 0.021\\\\\n",
      "2004 & 0.041 & 0.017 & 0.032 & - & 0.038 & 0.029\\\\\n",
      "2005 & 0.019 & 0.000 & 0.021 & 0.026 & 0.023 & 0.010\\\\\n",
      "2006 & 0.047 & 0.007 & 0.010 & - & 0.023 & 0.005\\\\\n",
      "2007 & 0.022 & 0.000 & 0.021 & 0.017 & 0.016 & 0.005\\\\\n",
      "2008 & 0.040 & 0.000 & 0.029 & - & 0.026 & 0.016\\\\\n",
      "2009 & - & 0.000 & 0.020 & 0.006 & 0.029 & 0.000\\\\\n",
      "2010 & 0.010 & 0.019 & 0.017 & - & 0.023 & 0.003\\\\\n",
      "2011 & 0.019 & 0.000 & 0.023 & 0.019 & 0.019 & 0.003\\\\\n",
      "2012 & 0.031 & 0.000 & 0.018 & - & 0.028 & 0.016\\\\\n",
      "2013 & 0.012 & - & 0.025 & 0.022 & 0.023 & 0.006\\\\\n",
      "2014 & 0.030 & 0.013 & 0.020 & - & 0.023 & 0.005\\\\\n",
      "2015 & 0.022 & 0.004 & 0.019 & 0.016 & 0.031 & 0.015\\\\\n",
      "2016 & 0.033 & 0.000 & 0.018 & 0.030 & 0.024 & 0.005\\\\\n",
      "2017 & 0.028 & 0.009 & 0.022 & 0.030 & 0.021 & 0.016\\\\\n",
      "2018 & 0.034 & 0.029 & 0.020 & 0.050 & 0.039 & -\\\\\n",
      "2019 & - & 0.030 & - & - & - & -\\\\\n"
     ]
    }
   ],
   "source": [
    "years = sorted(list(set(map(int,cdf.year))))\n",
    "confs = sorted(list(set(cdf.booktitle)))\n",
    "values = {}\n",
    "for i in cdf.index:\n",
    "    y = int(cdf.year[i])\n",
    "    conf = cdf.booktitle[i]\n",
    "    values[(y,conf)] = cdf.is_ethics_with_ai[i]\n",
    "\n",
    "print(\"year\".format(y),end=\"\")\n",
    "for c in confs:\n",
    "    print(\" & {}\".format(c),end=\"\")\n",
    "print(\"\\\\\\\\\")\n",
    "for y in years:\n",
    "    print(\"{}\".format(y),end=\"\")\n",
    "    for c in confs:\n",
    "        if (y,c) in values:\n",
    "            val = \"{:.3f}\".format(values[(y,c)])\n",
    "        else:\n",
    "            val = \"-\"\n",
    "        print(\" & {}\".format(val),end=\"\")\n",
    "    print(\"\\\\\\\\\")"
   ]
  },
  {
   "cell_type": "code",
   "execution_count": 230,
   "metadata": {},
   "outputs": [],
   "source": [
    "jdblp = pd.read_csv(\"jdblp.csv\", sep=\"\\t\", quotechar='\"', header=1, names=[\"key\",\"title\",\"journal\",\"volume\",\"year\",\"ee\",\"empty\"]).drop(\"empty\", axis=1)"
   ]
  },
  {
   "cell_type": "code",
   "execution_count": 307,
   "metadata": {},
   "outputs": [],
   "source": [
    "def infix_of(v,confs):\n",
    "    return any(c.lower() in v.lower()  for c in confs)\n",
    "\n",
    "def ieee_trans_ai(v):\n",
    "    confs = [\"IEEE Trans. Affective\", \"IEEE Trans. Audio, Speech\", \"IEEE Trans.Cognitive\", \"IEEE Trans. Comput. Intellig.\", \"IEEE Trans.Emerging Topics in Comput. Intellig\", \"IEEE Trans. Fuzzy Systems\", \"IEEE Trans. Intelligent\", \"IEEE Trans. Neural\"]\n",
    "    return infix_of(v,confs)\n",
    "\n",
    "def ieee_trans_robotics(v):\n",
    "    confs = [\"IEEE Trans. Automat.\", \"IEEE Trans. Automation\", \"IEEE Trans. Robotics\"]\n",
    "    return infix_of(v,confs)\n",
    "\n",
    "def ieee_trans(v):\n",
    "    confs = [\"IEEE Trans.\"]\n",
    "    return infix_of(v,confs)\n",
    "\n",
    "def acm_trans(v):\n",
    "    confs = [\"ACM Trans.\"]\n",
    "    return infix_of(v,confs)\n"
   ]
  },
  {
   "cell_type": "code",
   "execution_count": 332,
   "metadata": {},
   "outputs": [
    {
     "name": "stderr",
     "output_type": "stream",
     "text": [
      "/home/phcavelar/anaconda3/lib/python3.7/site-packages/ipykernel_launcher.py:2: SettingWithCopyWarning: \n",
      "A value is trying to be set on a copy of a slice from a DataFrame\n",
      "\n",
      "See the caveats in the documentation: http://pandas.pydata.org/pandas-docs/stable/user_guide/indexing.html#returning-a-view-versus-a-copy\n",
      "  \n",
      "/home/phcavelar/anaconda3/lib/python3.7/site-packages/ipykernel_launcher.py:3: SettingWithCopyWarning: \n",
      "A value is trying to be set on a copy of a slice from a DataFrame\n",
      "\n",
      "See the caveats in the documentation: http://pandas.pydata.org/pandas-docs/stable/user_guide/indexing.html#returning-a-view-versus-a-copy\n",
      "  This is separate from the ipykernel package so we can avoid doing imports until\n",
      "/home/phcavelar/anaconda3/lib/python3.7/site-packages/ipykernel_launcher.py:4: SettingWithCopyWarning: \n",
      "A value is trying to be set on a copy of a slice from a DataFrame\n",
      "\n",
      "See the caveats in the documentation: http://pandas.pydata.org/pandas-docs/stable/user_guide/indexing.html#returning-a-view-versus-a-copy\n",
      "  after removing the cwd from sys.path.\n",
      "/home/phcavelar/anaconda3/lib/python3.7/site-packages/ipykernel_launcher.py:5: SettingWithCopyWarning: \n",
      "A value is trying to be set on a copy of a slice from a DataFrame\n",
      "\n",
      "See the caveats in the documentation: http://pandas.pydata.org/pandas-docs/stable/user_guide/indexing.html#returning-a-view-versus-a-copy\n",
      "  \"\"\"\n",
      "/home/phcavelar/anaconda3/lib/python3.7/site-packages/ipykernel_launcher.py:6: SettingWithCopyWarning: \n",
      "A value is trying to be set on a copy of a slice from a DataFrame\n",
      "\n",
      "See the caveats in the documentation: http://pandas.pydata.org/pandas-docs/stable/user_guide/indexing.html#returning-a-view-versus-a-copy\n",
      "  \n",
      "/home/phcavelar/anaconda3/lib/python3.7/site-packages/ipykernel_launcher.py:7: SettingWithCopyWarning: \n",
      "A value is trying to be set on a copy of a slice from a DataFrame\n",
      "\n",
      "See the caveats in the documentation: http://pandas.pydata.org/pandas-docs/stable/user_guide/indexing.html#returning-a-view-versus-a-copy\n",
      "  import sys\n"
     ]
    }
   ],
   "source": [
    "jdblp[\"journaltype\"] = None\n",
    "jdblp[\"journaltype\"][jdblp.journal.apply(ieee_trans)] = \"IEEE Trans.\"\n",
    "jdblp[\"journaltype\"][jdblp.journal.apply(ieee_trans_ai)] = \"IEEE Trans. (AI)\"\n",
    "jdblp[\"journaltype\"][jdblp.journal.apply(ieee_trans_robotics)] = \"IEEE Trans. Robotics\"\n",
    "jdblp[\"journaltype\"][jdblp.journal.apply(acm_trans)] = \"ACM Trans.\"\n",
    "jdblp[\"journaltype\"][jdblp.journal==\"J. Artif. Intell. Res.\"] = \"J. Artif. Intell. Res.\"\n",
    "jdblp[\"journaltype\"][jdblp.journal==\"IEEE Computer\"] = \"IEEE Computer\""
   ]
  },
  {
   "cell_type": "code",
   "execution_count": 334,
   "metadata": {},
   "outputs": [],
   "source": [
    "filtered_jdblp = jdblp[jdblp.journaltype.notna()]\n",
    "filtered_jdblp = filtered_jdblp[filtered_jdblp.title.notna()]"
   ]
  },
  {
   "cell_type": "code",
   "execution_count": 314,
   "metadata": {},
   "outputs": [],
   "source": [
    "jdblp_docs = []\n",
    "for doc in nlp.pipe(filtered_jdblp.title):\n",
    "    jdblp_docs.append(\" \".join(word.lemma_ for word in doc if not word.is_stop and not word.is_punct))\n",
    "jdblp_y_pred = rf_pipeline.predict(vectorizer.transform(jdblp_docs))\n",
    "\n",
    "jdblp_ai_index_pred = []\n",
    "for doc in filtered_jdblp.title:\n",
    "    jdblp_ai_index_pred.append(1 if ai_index_is_ethics(doc.lower(), ai_index_ethics_keywords)>0 else 0)"
   ]
  },
  {
   "cell_type": "code",
   "execution_count": 378,
   "metadata": {},
   "outputs": [],
   "source": [
    "filtered_jdblp[\"is_ethics_with_ai\"] = jdblp_y_pred\n",
    "filtered_jdblp[\"is_ethics_ai_index\"] = jdblp_ai_index_pred"
   ]
  },
  {
   "cell_type": "code",
   "execution_count": 385,
   "metadata": {},
   "outputs": [
    {
     "data": {
      "text/html": [
       "<div>\n",
       "<style scoped>\n",
       "    .dataframe tbody tr th:only-of-type {\n",
       "        vertical-align: middle;\n",
       "    }\n",
       "\n",
       "    .dataframe tbody tr th {\n",
       "        vertical-align: top;\n",
       "    }\n",
       "\n",
       "    .dataframe thead th {\n",
       "        text-align: right;\n",
       "    }\n",
       "</style>\n",
       "<table border=\"1\" class=\"dataframe\">\n",
       "  <thead>\n",
       "    <tr style=\"text-align: right;\">\n",
       "      <th></th>\n",
       "      <th>key</th>\n",
       "      <th>title</th>\n",
       "      <th>journal</th>\n",
       "      <th>volume</th>\n",
       "      <th>year</th>\n",
       "      <th>ee</th>\n",
       "      <th>journaltype</th>\n",
       "      <th>is_ethics_with_ai</th>\n",
       "      <th>is_ethics_ai_index</th>\n",
       "    </tr>\n",
       "  </thead>\n",
       "  <tbody>\n",
       "    <tr>\n",
       "      <td>223562</td>\n",
       "      <td>journals/computer/BreznitzMG11</td>\n",
       "      <td>Ubiquitous Data Collection: Rethinking Privacy...</td>\n",
       "      <td>IEEE Computer</td>\n",
       "      <td>44</td>\n",
       "      <td>2011</td>\n",
       "      <td>https://doi.org/10.1109/MC.2011.192</td>\n",
       "      <td>IEEE Computer</td>\n",
       "      <td>1</td>\n",
       "      <td>1</td>\n",
       "    </tr>\n",
       "    <tr>\n",
       "      <td>225145</td>\n",
       "      <td>journals/computer/ZhangGY11</td>\n",
       "      <td>The Emergence of Social and Community Intellig...</td>\n",
       "      <td>IEEE Computer</td>\n",
       "      <td>44</td>\n",
       "      <td>2011</td>\n",
       "      <td>https://doi.org/10.1109/MC.2011.65</td>\n",
       "      <td>IEEE Computer</td>\n",
       "      <td>1</td>\n",
       "      <td>0</td>\n",
       "    </tr>\n",
       "    <tr>\n",
       "      <td>226763</td>\n",
       "      <td>journals/computer/NutiMTY11</td>\n",
       "      <td>Algorithmic Trading.</td>\n",
       "      <td>IEEE Computer</td>\n",
       "      <td>44</td>\n",
       "      <td>2011</td>\n",
       "      <td>https://doi.org/10.1109/MC.2011.31</td>\n",
       "      <td>IEEE Computer</td>\n",
       "      <td>1</td>\n",
       "      <td>0</td>\n",
       "    </tr>\n",
       "  </tbody>\n",
       "</table>\n",
       "</div>"
      ],
      "text/plain": [
       "                                   key  \\\n",
       "223562  journals/computer/BreznitzMG11   \n",
       "225145     journals/computer/ZhangGY11   \n",
       "226763     journals/computer/NutiMTY11   \n",
       "\n",
       "                                                    title        journal  \\\n",
       "223562  Ubiquitous Data Collection: Rethinking Privacy...  IEEE Computer   \n",
       "225145  The Emergence of Social and Community Intellig...  IEEE Computer   \n",
       "226763                               Algorithmic Trading.  IEEE Computer   \n",
       "\n",
       "       volume  year                                   ee    journaltype  \\\n",
       "223562     44  2011  https://doi.org/10.1109/MC.2011.192  IEEE Computer   \n",
       "225145     44  2011   https://doi.org/10.1109/MC.2011.65  IEEE Computer   \n",
       "226763     44  2011   https://doi.org/10.1109/MC.2011.31  IEEE Computer   \n",
       "\n",
       "        is_ethics_with_ai  is_ethics_ai_index  \n",
       "223562                  1                   1  \n",
       "225145                  1                   0  \n",
       "226763                  1                   0  "
      ]
     },
     "execution_count": 385,
     "metadata": {},
     "output_type": "execute_result"
    }
   ],
   "source": [
    "filtered_jdblp[np.logical_and(filtered_jdblp.is_ethics_with_ai,np.logical_and(filtered_jdblp.journaltype==\"IEEE Computer\", filtered_jdblp.year==2011))]"
   ]
  },
  {
   "cell_type": "code",
   "execution_count": 379,
   "metadata": {},
   "outputs": [],
   "source": [
    "jdf = filtered_jdblp[[\"year\",\"journaltype\",\"is_ethics_with_ai\", \"is_ethics_ai_index\"]].groupby([\"year\",\"journaltype\"]).mean().reset_index()"
   ]
  },
  {
   "cell_type": "code",
   "execution_count": 380,
   "metadata": {},
   "outputs": [
    {
     "data": {
      "text/plain": [
       "<matplotlib.axes._subplots.AxesSubplot at 0x7fcc019373d0>"
      ]
     },
     "execution_count": 380,
     "metadata": {},
     "output_type": "execute_result"
    },
    {
     "data": {
      "image/png": "[encoded data removed]",
      "text/plain": [
       "<Figure size 432x288 with 1 Axes>"
      ]
     },
     "metadata": {
      "needs_background": "light"
     },
     "output_type": "display_data"
    }
   ],
   "source": [
    "sns.lineplot(data=jdf, x=\"year\", y=\"is_ethics_with_ai\", hue=\"journaltype\")"
   ]
  },
  {
   "cell_type": "code",
   "execution_count": 381,
   "metadata": {},
   "outputs": [
    {
     "data": {
      "text/plain": [
       "<matplotlib.axes._subplots.AxesSubplot at 0x7fcc00be3990>"
      ]
     },
     "execution_count": 381,
     "metadata": {},
     "output_type": "execute_result"
    },
    {
     "data": {
      "image/png": "[encoded data removed]",
      "text/plain": [
       "<Figure size 432x288 with 1 Axes>"
      ]
     },
     "metadata": {
      "needs_background": "light"
     },
     "output_type": "display_data"
    }
   ],
   "source": [
    "sns.lineplot(data=jdf, x=\"year\", y=\"is_ethics_ai_index\", hue=\"journaltype\")"
   ]
  },
  {
   "cell_type": "code",
   "execution_count": 386,
   "metadata": {},
   "outputs": [
    {
     "name": "stdout",
     "output_type": "stream",
     "text": [
      "year & ACM Trans. & IEEE Computer & IEEE Trans. & IEEE Trans. (AI) & IEEE Trans. Robotics & J. Artif. Intell. Res.\\\\\n",
      "1963 & - & - & 0.005 & - & - & -\\\\\n",
      "1964 & - & - & 0.000 & - & - & -\\\\\n",
      "1965 & - & - & 0.007 & - & - & -\\\\\n",
      "1966 & - & - & 0.000 & - & - & -\\\\\n",
      "1967 & - & - & 0.004 & - & - & -\\\\\n",
      "1968 & - & - & 0.007 & - & - & -\\\\\n",
      "1969 & - & - & 0.011 & - & - & -\\\\\n",
      "1970 & - & 0.000 & 0.004 & - & - & -\\\\\n",
      "1971 & - & 0.077 & 0.004 & - & - & -\\\\\n",
      "1972 & - & 0.000 & 0.006 & - & - & -\\\\\n",
      "1973 & - & 0.038 & 0.002 & - & - & -\\\\\n",
      "1974 & - & 0.012 & 0.010 & - & - & -\\\\\n",
      "1975 & 0.000 & 0.023 & 0.016 & - & - & -\\\\\n",
      "1976 & 0.000 & 0.000 & 0.010 & - & - & -\\\\\n",
      "1977 & 0.000 & 0.009 & 0.010 & - & - & -\\\\\n",
      "1978 & 0.000 & 0.010 & 0.006 & - & - & -\\\\\n",
      "1979 & 0.000 & 0.000 & 0.018 & - & - & -\\\\\n",
      "1980 & 0.000 & 0.000 & 0.004 & - & - & -\\\\\n",
      "1981 & 0.000 & 0.010 & 0.010 & - & - & -\\\\\n",
      "1982 & 0.009 & 0.021 & 0.007 & - & - & -\\\\\n",
      "1983 & 0.014 & 0.000 & 0.007 & - & - & -\\\\\n",
      "1984 & 0.000 & 0.034 & 0.004 & - & - & -\\\\\n",
      "1985 & 0.007 & 0.031 & 0.009 & - & - & -\\\\\n",
      "1986 & 0.000 & 0.023 & 0.009 & - & - & -\\\\\n",
      "1987 & 0.000 & 0.052 & 0.011 & - & - & -\\\\\n",
      "1988 & 0.008 & 0.000 & 0.005 & - & - & -\\\\\n",
      "1989 & 0.000 & 0.030 & 0.013 & - & 0.000 & -\\\\\n",
      "1990 & 0.000 & 0.012 & 0.006 & 0.000 & 0.000 & -\\\\\n",
      "1991 & 0.013 & 0.019 & 0.005 & 0.000 & 0.010 & -\\\\\n",
      "1992 & 0.019 & 0.057 & 0.004 & 0.000 & 0.013 & -\\\\\n",
      "1993 & 0.000 & 0.013 & 0.008 & 0.000 & 0.000 & 0.000\\\\\n",
      "1994 & 0.004 & 0.011 & 0.004 & 0.000 & 0.027 & 0.071\\\\\n",
      "1995 & 0.008 & 0.006 & 0.006 & 0.000 & 0.010 & 0.037\\\\\n",
      "1996 & 0.016 & 0.016 & 0.003 & 0.009 & 0.011 & 0.000\\\\\n",
      "1997 & 0.008 & 0.011 & 0.002 & 0.000 & 0.023 & 0.053\\\\\n",
      "1998 & 0.008 & 0.011 & 0.004 & 0.000 & 0.010 & 0.000\\\\\n",
      "1999 & 0.004 & 0.012 & 0.003 & 0.008 & 0.002 & 0.000\\\\\n",
      "2000 & 0.018 & 0.013 & 0.006 & 0.013 & 0.007 & 0.053\\\\\n",
      "2001 & 0.004 & 0.006 & 0.006 & 0.008 & 0.005 & 0.000\\\\\n",
      "2002 & 0.008 & 0.015 & 0.007 & 0.004 & 0.005 & 0.074\\\\\n",
      "2003 & 0.011 & 0.030 & 0.007 & 0.008 & 0.012 & 0.000\\\\\n",
      "2004 & 0.002 & 0.024 & 0.007 & 0.012 & 0.002 & 0.000\\\\\n",
      "2005 & 0.013 & 0.013 & 0.006 & 0.008 & 0.011 & 0.026\\\\\n",
      "2006 & 0.005 & 0.022 & 0.006 & 0.006 & 0.002 & 0.023\\\\\n",
      "2007 & 0.009 & 0.032 & 0.008 & 0.011 & 0.017 & 0.000\\\\\n",
      "2008 & 0.002 & 0.024 & 0.009 & 0.006 & 0.016 & 0.034\\\\\n",
      "2009 & 0.008 & 0.013 & 0.007 & 0.014 & 0.007 & 0.000\\\\\n",
      "2010 & 0.006 & 0.029 & 0.006 & 0.012 & 0.004 & 0.000\\\\\n",
      "2011 & 0.009 & 0.015 & 0.009 & 0.006 & 0.011 & 0.000\\\\\n",
      "2012 & 0.008 & 0.010 & 0.008 & 0.015 & 0.000 & 0.000\\\\\n",
      "2013 & 0.010 & 0.030 & 0.007 & 0.007 & 0.008 & 0.050\\\\\n",
      "2014 & 0.007 & 0.005 & 0.009 & 0.014 & 0.003 & 0.030\\\\\n",
      "2015 & 0.011 & 0.016 & 0.006 & 0.012 & 0.009 & 0.021\\\\\n",
      "2016 & 0.009 & 0.035 & 0.008 & 0.019 & 0.009 & 0.000\\\\\n",
      "2017 & 0.011 & 0.029 & 0.009 & 0.017 & 0.004 & 0.029\\\\\n",
      "2018 & 0.009 & 0.061 & 0.008 & 0.009 & 0.013 & 0.058\\\\\n",
      "2019 & 0.006 & 0.070 & 0.008 & 0.022 & 0.014 & 0.185\\\\\n"
     ]
    }
   ],
   "source": [
    "years = sorted(list(set(map(int,jdf.year))))\n",
    "confs = sorted(list(set(jdf.journaltype)))\n",
    "values = {}\n",
    "for i in jdf.index:\n",
    "    y = int(jdf.year[i])\n",
    "    conf = jdf.journaltype[i]\n",
    "    values[(y,conf)] = jdf.is_ethics_with_ai[i]\n",
    "\n",
    "print(\"year\".format(y),end=\"\")\n",
    "for c in confs:\n",
    "    print(\" & {}\".format(c),end=\"\")\n",
    "print(\"\\\\\\\\\")\n",
    "for y in years:\n",
    "    print(\"{}\".format(y),end=\"\")\n",
    "    for c in confs:\n",
    "        if (y,c) in values:\n",
    "            val = \"{:.3f}\".format(values[(y,c)])\n",
    "        else:\n",
    "            val = \"-\"\n",
    "        print(\" & {}\".format(val),end=\"\")\n",
    "    print(\"\\\\\\\\\")\n"
   ]
  },
  {
   "cell_type": "code",
   "execution_count": 382,
   "metadata": {},
   "outputs": [],
   "source": [
    "jdf.to_csv(\"journal.csv\")"
   ]
  },
  {
   "cell_type": "code",
   "execution_count": null,
   "metadata": {},
   "outputs": [],
   "source": []
  }
 ],
 "metadata": {
  "kernelspec": {
   "display_name": "Python 3",
   "language": "python",
   "name": "python3"
  },
  "language_info": {
   "codemirror_mode": {
    "name": "ipython",
    "version": 3
   },
   "file_extension": ".py",
   "mimetype": "text/x-python",
   "name": "python",
   "nbconvert_exporter": "python",
   "pygments_lexer": "ipython3",
   "version": "3.7.1"
  }
 },
 "nbformat": 4,
 "nbformat_minor": 2
}
